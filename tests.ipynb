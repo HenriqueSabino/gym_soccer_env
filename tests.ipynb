{
 "cells": [
  {
   "cell_type": "code",
   "execution_count": 12,
   "metadata": {},
   "outputs": [
    {
     "data": {
      "text/plain": [
       "(120, 90, 120, 90, 120, 90, 120, 90, 120, 90)"
      ]
     },
     "execution_count": 12,
     "metadata": {},
     "output_type": "execute_result"
    }
   ],
   "source": [
    "5*(120,90)"
   ]
  },
  {
   "cell_type": "code",
   "execution_count": 17,
   "metadata": {},
   "outputs": [
    {
     "data": {
      "image/png": "[encoded data removed]",
      "text/plain": [
       "<PIL.Image.Image image mode=RGB size=600x450>"
      ]
     },
     "execution_count": 17,
     "metadata": {},
     "output_type": "execute_result"
    }
   ],
   "source": [
    "from gymnasium.core import RenderFrame\n",
    "from PIL import Image, ImageDraw\n",
    "\n",
    "scale = 5\n",
    "\n",
    "width, height = 120 * scale, 90 * scale\n",
    "field = Image.new(\"RGB\", (width, height), \"green\")  # Green background for the field\n",
    "\n",
    "# Use PIL's drawing module to add field lines or other details\n",
    "draw = ImageDraw.Draw(field)\n",
    "\n",
    "# Drawing center line and circle\n",
    "draw.line([(width / 2, 0), (width / 2, height)], fill=\"white\", width=2)  # Center line\n",
    "\n",
    "center_line_radius = 9.15 * scale\n",
    "\n",
    "draw.ellipse(xy=[\n",
    "    (width / 2 - center_line_radius, height / 2 - center_line_radius),\n",
    "    (width / 2 + center_line_radius, height / 2 + center_line_radius)], width=2)\n",
    "\n",
    "outer_goal_height = 40 * scale\n",
    "outer_goal_width = 16.5 * scale\n",
    "\n",
    "inner_goal_height = 18.3 * scale\n",
    "inner_goal_width = 5.5 * scale\n",
    "\n",
    "goal_size = 7.32 * scale\n",
    "\n",
    "# Drawing goals\n",
    "draw.rectangle(xy=[\n",
    "    (0, height / 2 - outer_goal_height / 2),\n",
    "    (outer_goal_width, height / 2 + outer_goal_height / 2)\n",
    "], width=2)\n",
    "\n",
    "draw.rectangle(xy=[\n",
    "    (0, height / 2 - inner_goal_height / 2),\n",
    "    (inner_goal_width, height / 2 + inner_goal_height / 2)\n",
    "], width=2)\n",
    "\n",
    "draw.line(xy=[\n",
    "    (0, height / 2 - goal_size / 2),\n",
    "    (0, height / 2 + goal_size / 2),\n",
    "])\n",
    "\n",
    "draw.rectangle(xy=[\n",
    "    (width, height / 2 - outer_goal_height / 2),\n",
    "    (width - outer_goal_width, height / 2 + outer_goal_height / 2)\n",
    "], width=2)\n",
    "\n",
    "draw.rectangle(xy=[\n",
    "    (width, height / 2 - inner_goal_height / 2),\n",
    "    (width - inner_goal_width, height / 2 + inner_goal_height / 2)\n",
    "], width=2)\n",
    "\n",
    "draw.line(xy=[\n",
    "    (width, height / 2 - goal_size / 2),\n",
    "    (width, height / 2 + goal_size / 2),\n",
    "])\n",
    "\n",
    "field"
   ]
  }
 ],
 "metadata": {
  "kernelspec": {
   "display_name": "Python 3",
   "language": "python",
   "name": "python3"
  },
  "language_info": {
   "codemirror_mode": {
    "name": "ipython",
    "version": 3
   },
   "file_extension": ".py",
   "mimetype": "text/x-python",
   "name": "python",
   "nbconvert_exporter": "python",
   "pygments_lexer": "ipython3",
   "version": "3.11.3"
  }
 },
 "nbformat": 4,
 "nbformat_minor": 2
}
